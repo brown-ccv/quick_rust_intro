{
 "cells": [
  {
   "cell_type": "code",
   "execution_count": 2,
   "id": "502a2b6b",
   "metadata": {
    "slideshow": {
     "slide_type": "slide"
    }
   },
   "outputs": [],
   "source": [
    "#![allow(unused_variables)] \n",
    "\n",
    "use std::option::Option;\n",
    "\n",
    "fn type_of<T>(_: &T) {\n",
    "    println!(\"{}\", std::any::type_name::<T>())\n",
    "}\n"
   ]
  },
  {
   "cell_type": "markdown",
   "id": "128e1250",
   "metadata": {
    "slideshow": {
     "slide_type": "slide"
    }
   },
   "source": [
    "<center><h1>Quick Intro to Rust Language</h1></center>\n",
    "\n",
    "<center><h3>Paul Stey</h3></center>\n",
    "\n",
    "<center><img src=\"img/happy-rustacean.png\" width=420/></center>"
   ]
  },
  {
   "cell_type": "markdown",
   "id": "ab252b3c",
   "metadata": {
    "slideshow": {
     "slide_type": "slide"
    }
   },
   "source": [
    "\n",
    "<center><h1>If you'd like to follow along:</h1></center>\n",
    "\n",
    "#### 1. Download this repo\n",
    "`https://github.com/brown-ccv/quick_rust_intro.git`\n",
    "\n",
    "#### 2. Install Rust \n",
    " `curl --proto '=https' --tlsv1.2 -sSf https://sh.rustup.rs | sh`\n",
    "\n",
    "#### 3. Install `evcxr_jupyter`\n",
    "\n",
    "`https://github.com/google/evcxr/tree/main/evcxr_jupyter`"
   ]
  },
  {
   "cell_type": "markdown",
   "id": "a2ad29df",
   "metadata": {
    "slideshow": {
     "slide_type": "slide"
    }
   },
   "source": [
    "# 1. What is Rust?"
   ]
  },
  {
   "cell_type": "markdown",
   "id": "5693761e",
   "metadata": {
    "slideshow": {
     "slide_type": "fragment"
    }
   },
   "source": [
    "_\"It wasn’t always so clear, but the Rust programming language is fundamentally about empowerment...\"_\n",
    "\n",
    "\n",
    "_\"...Rust empowers you to reach farther, to program with confidence in a wider variety of domains than you did before.\"_ [1]\n",
    "\n",
    "\n",
    "\n",
    "<div align=\"right\">\n",
    "<img src=\"img/rust-book.jpg\" width=240/>\n",
    "</div>\n"
   ]
  },
  {
   "cell_type": "markdown",
   "id": "8ef92572",
   "metadata": {
    "slideshow": {
     "slide_type": "subslide"
    }
   },
   "source": [
    "## 1.1 Overview\n",
    "\n",
    "The Rust language is: \n",
    "  - Compiled (using LLVM intermediate representation)\n",
    "  - Statically typed\n",
    "  - Strongly typed\n",
    "  - Fast\n",
    "  - Fun!!"
   ]
  },
  {
   "cell_type": "markdown",
   "id": "2239ad43",
   "metadata": {
    "slideshow": {
     "slide_type": "subslide"
    }
   },
   "source": [
    "### 1.1.1 Design and Syntax\n",
    "\n",
    "1. Functional\n",
    "2. Imperative\n",
    "3. Not object-oriented (but can define `struct` and methods on it)"
   ]
  },
  {
   "cell_type": "code",
   "execution_count": null,
   "id": "7ac0ce4f",
   "metadata": {
    "slideshow": {
     "slide_type": "subslide"
    }
   },
   "outputs": [],
   "source": [
    "fn fib(n: i32) -> i32 {        // Type annotation needed in function signature\n",
    "    let mut a = 1;             // Types are immutable by default, so need `mut` keyword here\n",
    "    let mut b = 1;             // Compiler infers types most of the time\n",
    "    let mut tmp;\n",
    "    \n",
    "    for i in 2..n {\n",
    "        tmp = b;\n",
    "        b = b + a;\n",
    "        a = tmp;\n",
    "    }\n",
    "    b                          // last expression returned by default (i.e., `return` not needed)\n",
    "}"
   ]
  },
  {
   "cell_type": "code",
   "execution_count": null,
   "id": "25ddeb4c",
   "metadata": {
    "slideshow": {
     "slide_type": "fragment"
    }
   },
   "outputs": [],
   "source": [
    "fib(45)"
   ]
  },
  {
   "cell_type": "markdown",
   "id": "209fd8be",
   "metadata": {
    "slideshow": {
     "slide_type": "subslide"
    }
   },
   "source": [
    "## 1.2 History of Rust\n",
    "\n",
    "\n",
    "1. Work on Rust began at Mozilla Research in 2006\n",
    "2. Graydon Hoare, Dave Herman, and Brendan Eich (of JavaScript fame)\n",
    "3. First announced in 2010, \n",
    "  - Hit 1.0 in 2015\n",
    "  - Has stable point releases every 6 weeks"
   ]
  },
  {
   "cell_type": "markdown",
   "id": "975920aa",
   "metadata": {
    "slideshow": {
     "slide_type": "subslide"
    }
   },
   "source": [
    "## 1.3 Rust as a Systems Language\n",
    "\n",
    "1. Rust was originally developed for working on _Servo_, Mozilla's the experimental browser engine\n",
    "2. Emphasis on speed, concurrency, and safety"
   ]
  },
  {
   "cell_type": "markdown",
   "id": "d2858d67",
   "metadata": {
    "slideshow": {
     "slide_type": "slide"
    }
   },
   "source": [
    "## 1.4 Why Use Rust?\n",
    "\n",
    "1. Performance\n",
    "2. Safety\n",
    "3. Tooling\n",
    "4. Fun!!\n",
    "\n",
    "<div align=\"right\">\n",
    "<img src=\"img/rust-surfer.png\" width=520/>\n",
    "</div>"
   ]
  },
  {
   "cell_type": "markdown",
   "id": "79dba82f",
   "metadata": {
    "slideshow": {
     "slide_type": "slide"
    }
   },
   "source": [
    "### 1.4.1 Performance\n",
    "\n",
    "1. Rust compiles to native code using LLVM\n",
    "2. Not garbage collected (i.e., no stop-the-world pauses)\n",
    "3. Simple multi-threading via `std::thread` \n",
    "4. _Rayon_ crate for data-parallel computation\n",
    "\n",
    "\n",
    "<center><img src=\"img/llvm-dragon2.png\" width=420/></center>\n"
   ]
  },
  {
   "cell_type": "markdown",
   "id": "3db51310",
   "metadata": {
    "slideshow": {
     "slide_type": "subslide"
    }
   },
   "source": [
    "### 2.1.1 Performance (cont.)\n",
    "* Obvious applications in performance-critical settings\n",
    "* Growing interest for scientific computing\n",
    "\n",
    "<div align=\"right\">\n",
    "<img src=\"img/polars_py.png\" width=420/>\n",
    "</div>\n",
    "\n",
    "<div align=\"left\">\n",
    "<img src=\"img/ferris-fastqc.png\" width=520/>\n",
    "</div>"
   ]
  },
  {
   "cell_type": "markdown",
   "id": "267c147d",
   "metadata": {
    "slideshow": {
     "slide_type": "subslide"
    }
   },
   "source": [
    "### 1.4.2 Safety\n",
    "\n",
    "- Rust's compiler prevents memory safety issues (e.g., buffer over-read, null pointer dereference, double free)\n",
    "- Memory safety issues have accounted for approximately 70% of Microsoft's security bugs [2]\n",
    "- Data races prevented via ownership model (more on this later)"
   ]
  },
  {
   "cell_type": "markdown",
   "id": "ce6c3429",
   "metadata": {
    "slideshow": {
     "slide_type": "subslide"
    }
   },
   "source": [
    "### 1.4.3 Safety, Correctness, and Reliability\n",
    "\n",
    "- Safety not always prioritized in much scientific software\n",
    "- But we should _always_ care about correctness and reliability"
   ]
  },
  {
   "cell_type": "markdown",
   "id": "32e4c863",
   "metadata": {
    "slideshow": {
     "slide_type": "subslide"
    }
   },
   "source": [
    "### 1.4.4 Tooling\n",
    "\n",
    "- Cargo\n",
    "  + Package manager, build tool, distribute software via `crates.io`\n",
    "- `crates.io`\n",
    "  + Central registry for Rust crates (i.e., packages/libraries)\n",
    "- `rustfmt`\n",
    "  + Works with Vim, Emacs, VScode, Sublime, Atom, and CLion\n",
    "- No need for: virtual envs\n",
    "\n",
    "\n",
    "<center><img src=\"img/rust-tooling.png\" width=420/></center>"
   ]
  },
  {
   "cell_type": "markdown",
   "id": "c6c60437",
   "metadata": {
    "slideshow": {
     "slide_type": "subslide"
    }
   },
   "source": [
    "### 1.4.5 Fun!!!\n",
    "\n",
    " - Rust usage has been growing fast!!\n",
    " - Rated most-loved language by Stackoverflow 6 years running! [3]\n",
    " - Growing use in scientific computing [4]\n",
    " \n",
    "<center><img src=\"img/loved_dreaded.png\" width=1120/></center>"
   ]
  },
  {
   "cell_type": "markdown",
   "id": "d28b2604",
   "metadata": {
    "slideshow": {
     "slide_type": "slide"
    }
   },
   "source": [
    "# 2. Similarities with Other Languages\n",
    "\n",
    "1. Probably most similar to C++\n",
    "  - Similar syntax, both compiled, static types, extremely powerful\n",
    "  - High-level, but exceptional performance\n",
    "      + \"zero-cost abstractions\"\n",
    "  - Manage memory using [smart] pointers; no garbage collector\n",
    "2. Haskell\n",
    "  - Functional language features\n",
    "    + Higher-order functions\n",
    "    + Immutable types\n",
    "    + Functions are first-class citizens\n",
    "    + TypeClasses/Traits\n",
    "  "
   ]
  },
  {
   "cell_type": "markdown",
   "id": "271e0b33",
   "metadata": {
    "slideshow": {
     "slide_type": "slide"
    }
   },
   "source": [
    "# 3. Differences from Other Languages\n",
    "\n",
    "1. Ownership\n",
    "    - Every value in Rust has a variable that’s called its \"owner\".\n",
    "    - There can only be one owner at a time.\n",
    "    - When the owner goes out of scope, the value will be dropped.[1]"
   ]
  },
  {
   "cell_type": "markdown",
   "id": "2b797f7d",
   "metadata": {
    "slideshow": {
     "slide_type": "subslide"
    }
   },
   "source": [
    "# 4. Ownership"
   ]
  },
  {
   "cell_type": "code",
   "execution_count": null,
   "id": "9532f06f",
   "metadata": {
    "slideshow": {
     "slide_type": "-"
    }
   },
   "outputs": [],
   "source": [
    "let s1 = String::from(\"hello\");\n",
    "let s2 = s1;\n",
    "\n",
    "println!(\"{}, world!\", s1);            // Error!"
   ]
  },
  {
   "cell_type": "markdown",
   "id": "70489393",
   "metadata": {
    "slideshow": {
     "slide_type": "fragment"
    }
   },
   "source": [
    "<center><img src=\"img/rust-panic.png\" width=320/></center>"
   ]
  },
  {
   "cell_type": "markdown",
   "id": "2e586010",
   "metadata": {
    "slideshow": {
     "slide_type": "subslide"
    }
   },
   "source": [
    "### 4.1.1 `String` Type Implements `Clone` Trait"
   ]
  },
  {
   "cell_type": "code",
   "execution_count": null,
   "id": "0eaac33e",
   "metadata": {
    "slideshow": {
     "slide_type": "-"
    }
   },
   "outputs": [],
   "source": [
    "let s1 = String::from(\"hello\");\n",
    "let s2 = s1.clone();\n",
    "\n",
    "println!(\"s1: {}, s2: {}\", s1, s2); "
   ]
  },
  {
   "cell_type": "markdown",
   "id": "e14a82ef",
   "metadata": {
    "slideshow": {
     "slide_type": "subslide"
    }
   },
   "source": [
    "## 4.2 Borrowing and References\n",
    "\n",
    "- We can often avoid making copies, by passing references\n",
    "- When functions take a reference as an argument, the Rust-y convention is to say it \"borrows\""
   ]
  },
  {
   "cell_type": "code",
   "execution_count": null,
   "id": "c272595a",
   "metadata": {
    "slideshow": {
     "slide_type": "-"
    }
   },
   "outputs": [],
   "source": [
    "fn calculate_length(s: &String) -> usize {\n",
    "    s.len()\n",
    "}\n",
    "\n",
    "\n",
    "let s1 = String::from(\"hello\");\n",
    "\n",
    "let len = calculate_length(&s1);\n",
    "\n",
    "println!(\"The length of '{}' is {}.\", s1, len);"
   ]
  },
  {
   "cell_type": "markdown",
   "id": "761e6da0",
   "metadata": {
    "slideshow": {
     "slide_type": "subslide"
    }
   },
   "source": [
    "### 4.2.1 Mutable References "
   ]
  },
  {
   "cell_type": "code",
   "execution_count": null,
   "id": "f42023e9",
   "metadata": {
    "slideshow": {
     "slide_type": "-"
    }
   },
   "outputs": [],
   "source": [
    "fn change(some_string: &String) {\n",
    "    some_string.push_str(\", world\");\n",
    "}\n",
    "\n",
    "\n",
    "let s = String::from(\"Hello\");\n",
    "\n",
    "change(&s);\n",
    "\n",
    "println!(\"{}\", s)                  // Error!!"
   ]
  },
  {
   "cell_type": "code",
   "execution_count": null,
   "id": "79ec3def",
   "metadata": {
    "slideshow": {
     "slide_type": "subslide"
    }
   },
   "outputs": [],
   "source": [
    "fn change(some_string: &mut String) {\n",
    "    some_string.push_str(\", world\");\n",
    "}\n",
    "\n",
    "\n",
    "let mut s = String::from(\"Hello\");      // make `s` mutable\n",
    "\n",
    "change(&mut s);                         // change() will mutate the borrowed `s`\n",
    "\n",
    "println!(\"{}\", s);"
   ]
  },
  {
   "cell_type": "markdown",
   "id": "62291c56",
   "metadata": {
    "slideshow": {
     "slide_type": "subslide"
    }
   },
   "source": [
    "### 4.2.3 Multiple References\n",
    "\n",
    "* It's possible to have multiple references to a piece of data"
   ]
  },
  {
   "cell_type": "code",
   "execution_count": null,
   "id": "1d5f1914",
   "metadata": {
    "slideshow": {
     "slide_type": "-"
    }
   },
   "outputs": [],
   "source": [
    "fn sayhi() {\n",
    "    let mut s = String::from(\"Hey buddy!!\");\n",
    "\n",
    "    let r1 = &s;\n",
    "    let r2 = &s;\n",
    "\n",
    "    println!(\"{}, {}\", r1, r2);\n",
    "}\n",
    "\n",
    "sayhi();"
   ]
  },
  {
   "cell_type": "code",
   "execution_count": null,
   "id": "9f550290",
   "metadata": {
    "slideshow": {
     "slide_type": "subslide"
    }
   },
   "outputs": [],
   "source": [
    "fn sayhi() {\n",
    "    let mut s = String::from(\"hello\");\n",
    "\n",
    "    let r1 = &s;\n",
    "    let r2 = &mut s;              // second reference, `r2`, is mutable\n",
    "\n",
    "    println!(\"{}, {}\", r1, r2);\n",
    "}\n",
    "\n",
    "sayhi();                         // Error!! "
   ]
  },
  {
   "cell_type": "markdown",
   "id": "0c8e1fe5",
   "metadata": {
    "slideshow": {
     "slide_type": "fragment"
    }
   },
   "source": [
    "<center><img src=\"img/rust-panic.png\" width=320/></center>"
   ]
  },
  {
   "cell_type": "markdown",
   "id": "763ec4ed",
   "metadata": {
    "slideshow": {
     "slide_type": "subslide"
    }
   },
   "source": [
    "## 4.3 Dangling References\n",
    "\n",
    "\n",
    "* Dangling pointer: a pointer that references a location in memory that may have been given to someone else\n",
    "* Rust compiler guarantees that references will never be dangling references"
   ]
  },
  {
   "cell_type": "code",
   "execution_count": null,
   "id": "3fa4e943",
   "metadata": {
    "slideshow": {
     "slide_type": "-"
    }
   },
   "outputs": [],
   "source": [
    "\n",
    "fn dangle() -> &String {            // The dangle() function return reference to a String\n",
    "    let s = String::from(\"hello\");  // The `s` variable is created here\n",
    "\n",
    "    &s                              // We return a reference to the String `s` here\n",
    "}                                   // Here, `s` goes out of scope, and its memory goes away.\n",
    "\n",
    "\n",
    "fn try_gretting_reference() {\n",
    "    let reference_to_nothing = dangle();  // Error here \n",
    "}\n"
   ]
  },
  {
   "cell_type": "markdown",
   "id": "5ecbfb88",
   "metadata": {
    "slideshow": {
     "slide_type": "subslide"
    }
   },
   "source": [
    "## 4.3 Rules of References\n",
    "\n",
    "\n",
    "1. At any given time, you can have either one mutable reference or _any number_ of immutable references.\n",
    "2. References must always be valid.\n",
    "\n",
    "<center><img src=\"img/dueling_ferris.png\" width=720/></center>\n"
   ]
  },
  {
   "cell_type": "markdown",
   "id": "9e486819",
   "metadata": {
    "slideshow": {
     "slide_type": "slide"
    }
   },
   "source": [
    "# 5. Creating Types with `struct` and `enum`\n",
    "\n",
    "* There are a few ways to create user-defined types\n",
    "* We'll explore `struct` and `enum`"
   ]
  },
  {
   "cell_type": "code",
   "execution_count": null,
   "id": "85551c47",
   "metadata": {
    "slideshow": {
     "slide_type": "fragment"
    }
   },
   "outputs": [],
   "source": [
    "struct User {               // Define a `User` type with 4 fields\n",
    "    active: bool,\n",
    "    username: String,\n",
    "    email: String,\n",
    "    sign_in_count: u64,\n",
    "}\n"
   ]
  },
  {
   "cell_type": "markdown",
   "id": "1f1a8058",
   "metadata": {
    "slideshow": {
     "slide_type": "subslide"
    }
   },
   "source": [
    "## 5.1 Using our `struct`\n",
    "\n",
    "* We can now create instances of our `User` type"
   ]
  },
  {
   "cell_type": "code",
   "execution_count": null,
   "id": "bb6b9da1",
   "metadata": {
    "slideshow": {
     "slide_type": "fragment"
    }
   },
   "outputs": [],
   "source": [
    "let user1 = User {\n",
    "    email: String::from(\"someone@example.com\"),\n",
    "    username: String::from(\"someusername123\"),\n",
    "    active: true,\n",
    "    sign_in_count: 1,\n",
    "};\n"
   ]
  },
  {
   "cell_type": "code",
   "execution_count": null,
   "id": "4f6d54cb",
   "metadata": {
    "slideshow": {
     "slide_type": "fragment"
    }
   },
   "outputs": [],
   "source": [
    "// Access struct's fields using \"dot\" notation\n",
    "user1.email"
   ]
  },
  {
   "cell_type": "markdown",
   "id": "84546fa8",
   "metadata": {
    "slideshow": {
     "slide_type": "subslide"
    }
   },
   "source": [
    "### 5.1.1 Modifying `struct` Fields\n",
    "\n",
    "* By default, types in Rust are immutable\n",
    "* To create mutable data, use `mut` on assignment"
   ]
  },
  {
   "cell_type": "code",
   "execution_count": null,
   "id": "84452536",
   "metadata": {
    "slideshow": {
     "slide_type": "fragment"
    }
   },
   "outputs": [],
   "source": [
    "user1.sign_in_count += 1         // Error!!"
   ]
  },
  {
   "cell_type": "code",
   "execution_count": null,
   "id": "165da42a",
   "metadata": {
    "slideshow": {
     "slide_type": "fragment"
    }
   },
   "outputs": [],
   "source": [
    "let mut user2 = User {\n",
    "    email: String::from(\"someoneelse@example.com\"),\n",
    "    username: String::from(\"someothername123\"),\n",
    "    active: true,\n",
    "    sign_in_count: 1,\n",
    "};"
   ]
  },
  {
   "cell_type": "code",
   "execution_count": null,
   "id": "06f869fd",
   "metadata": {
    "slideshow": {
     "slide_type": "fragment"
    }
   },
   "outputs": [],
   "source": [
    "user2.sign_in_count += 1       // All good!"
   ]
  },
  {
   "cell_type": "markdown",
   "id": "7dddb128",
   "metadata": {
    "slideshow": {
     "slide_type": "subslide"
    }
   },
   "source": [
    "## 5.2 Defining Methods on `struct`\n",
    "\n",
    "* Despite not being object oriented, we can still define methods on `struct`"
   ]
  },
  {
   "cell_type": "code",
   "execution_count": null,
   "id": "642c8611",
   "metadata": {
    "slideshow": {
     "slide_type": "fragment"
    }
   },
   "outputs": [],
   "source": [
    "#[derive(Debug)]\n",
    "struct Rectangle {\n",
    "    width: u32,\n",
    "    height: u32,\n",
    "}\n",
    "\n",
    "impl Rectangle {\n",
    "    fn area(&self) -> u32 {\n",
    "        self.width * self.height\n",
    "    }\n",
    "}\n",
    "\n",
    "let rect1 = Rectangle {\n",
    "    width: 30,\n",
    "    height: 50,\n",
    "};\n",
    "\n",
    "println!(\"The area of the rectangle is {} square pixels.\", rect1.area());"
   ]
  },
  {
   "cell_type": "markdown",
   "id": "90c060ff",
   "metadata": {
    "slideshow": {
     "slide_type": "subslide"
    }
   },
   "source": [
    "## 5.3 Create Type using `enum`\n",
    "\n",
    "* We can also create user-defined types as an `enum`"
   ]
  },
  {
   "cell_type": "code",
   "execution_count": null,
   "id": "91eed12d",
   "metadata": {
    "slideshow": {
     "slide_type": "-"
    }
   },
   "outputs": [],
   "source": [
    "enum Coin {\n",
    "    Penny,\n",
    "    Nickel,\n",
    "    Dime,\n",
    "    Quarter,\n",
    "}"
   ]
  },
  {
   "cell_type": "code",
   "execution_count": null,
   "id": "f157650f",
   "metadata": {
    "slideshow": {
     "slide_type": "fragment"
    }
   },
   "outputs": [],
   "source": [
    "fn value_in_cents(coin: Coin) -> u8 {\n",
    "    match coin {\n",
    "        Coin::Penny => 1,\n",
    "        Coin::Nickel => 5,\n",
    "        Coin::Dime => 10,\n",
    "        Coin::Quarter => 25,\n",
    "    }\n",
    "}"
   ]
  },
  {
   "cell_type": "code",
   "execution_count": null,
   "id": "72ce8e2f",
   "metadata": {
    "slideshow": {
     "slide_type": "fragment"
    }
   },
   "outputs": [],
   "source": [
    "let coin1 = Coin::Dime;\n",
    "\n",
    "value_in_cents(coin1)"
   ]
  },
  {
   "cell_type": "markdown",
   "id": "5b8d06b9",
   "metadata": {
    "slideshow": {
     "slide_type": "subslide"
    }
   },
   "source": [
    "### 5.3.1 Very Brief Aside on `match`\n",
    "\n",
    "* `match` similar to `if`/`else`, but more awesome!!\n",
    "* When using `match`, you can return _anything_, not just boolean\n",
    "* `match` forces code to cover all variants of an `enum`"
   ]
  },
  {
   "cell_type": "code",
   "execution_count": null,
   "id": "7c4b779f",
   "metadata": {
    "slideshow": {
     "slide_type": "fragment"
    }
   },
   "outputs": [],
   "source": [
    "fn value_in_cents(coin: Coin) -> u8 {\n",
    "    match coin {\n",
    "        Coin::Penny => 1,\n",
    "        Coin::Nickel => 5,\n",
    "        Coin::Dime => 10,          \n",
    "    }                              // Error!! \n",
    "}"
   ]
  },
  {
   "cell_type": "markdown",
   "id": "020fbd6a",
   "metadata": {
    "slideshow": {
     "slide_type": "subslide"
    }
   },
   "source": [
    "### 5.3.1 Very Brief Aside on `match` (cont.)"
   ]
  },
  {
   "cell_type": "code",
   "execution_count": null,
   "id": "656c68f6",
   "metadata": {
    "slideshow": {
     "slide_type": "-"
    }
   },
   "outputs": [],
   "source": [
    "fn describe_number(number: i32) {\n",
    "    \n",
    "    match number {\n",
    "        1 => println!(\"One!\"),                      // match a single value\n",
    "        2 | 3 | 5 | 7 | 11 => println!(\"A prime!\"), // match several values\n",
    "        13..=19 => println!(\"A teen\"),              // match an inclusive range\n",
    "        _ => println!(\"Nothing special\"),           // use `_` to handle all other cases\n",
    "    }\n",
    "}"
   ]
  },
  {
   "cell_type": "code",
   "execution_count": null,
   "id": "beb08188",
   "metadata": {
    "slideshow": {
     "slide_type": "fragment"
    }
   },
   "outputs": [],
   "source": [
    "describe_number(7);"
   ]
  },
  {
   "cell_type": "markdown",
   "id": "ae695601",
   "metadata": {
    "slideshow": {
     "slide_type": "subslide"
    }
   },
   "source": [
    "## 5.4  Two Very Special and Important `enum` Types\n",
    "\n",
    "* `Option` \n",
    "* `Result`\n",
    "\n",
    "<div align=\"right\">\n",
    "<img src=\"img/ferris-detective.png\" width=320/>\n",
    "</div>"
   ]
  },
  {
   "cell_type": "markdown",
   "id": "c12b8fa3",
   "metadata": {
    "slideshow": {
     "slide_type": "subslide"
    }
   },
   "source": [
    "### 5.4.1 The `Option` Type\n",
    "\n",
    "* Rust does not have a `null` type\n",
    "* The `Option` type is better, because it expresses the idea of null/non-null in safe [explicit] way\n",
    "* The `Option` type is defined in the standard library as the following:"
   ]
  },
  {
   "cell_type": "code",
   "execution_count": null,
   "id": "5c6db965",
   "metadata": {
    "slideshow": {
     "slide_type": "-"
    }
   },
   "outputs": [],
   "source": [
    "enum Option<T> {\n",
    "    None,\n",
    "    Some(T),\n",
    "}"
   ]
  },
  {
   "cell_type": "markdown",
   "id": "55cf6151",
   "metadata": {
    "slideshow": {
     "slide_type": "subslide"
    }
   },
   "source": [
    "### 5.4.2 Create Instances of `Option` Type"
   ]
  },
  {
   "cell_type": "code",
   "execution_count": null,
   "id": "4264c2bf",
   "metadata": {
    "slideshow": {
     "slide_type": "-"
    }
   },
   "outputs": [],
   "source": [
    "let some_number = Some(5);\n",
    "let some_string = Some(\"a string\");\n",
    "\n",
    "let absent_number: Option<i32> = None;"
   ]
  },
  {
   "cell_type": "code",
   "execution_count": null,
   "id": "ff6cc68a",
   "metadata": {
    "slideshow": {
     "slide_type": "fragment"
    }
   },
   "outputs": [],
   "source": [
    "type_of(&some_number); \n",
    "type_of(&some_string); "
   ]
  },
  {
   "cell_type": "markdown",
   "id": "2036151f",
   "metadata": {
    "slideshow": {
     "slide_type": "subslide"
    }
   },
   "source": [
    "### 5.4.3 Working with `Option` Types"
   ]
  },
  {
   "cell_type": "code",
   "execution_count": null,
   "id": "317de7fa",
   "metadata": {
    "slideshow": {
     "slide_type": "-"
    }
   },
   "outputs": [],
   "source": [
    "let x: i8 = 40;\n",
    "let y: Option<i8> = Some(2);\n",
    "\n",
    "let sum = x + y;                    // Error!!"
   ]
  },
  {
   "cell_type": "code",
   "execution_count": null,
   "id": "675d882f",
   "metadata": {
    "slideshow": {
     "slide_type": "fragment"
    }
   },
   "outputs": [],
   "source": [
    "let x: i8 = 40;\n",
    "let y: Option<i8> = Some(2);\n",
    "\n",
    "let sum1 = x + y.unwrap();\n",
    "\n",
    "println!(\"{}\", sum1);             // All good"
   ]
  },
  {
   "cell_type": "markdown",
   "id": "35ef17b8",
   "metadata": {
    "slideshow": {
     "slide_type": "subslide"
    }
   },
   "source": [
    "### Working with `Option` Types (cont.)"
   ]
  },
  {
   "cell_type": "code",
   "execution_count": null,
   "id": "fb52f852",
   "metadata": {
    "slideshow": {
     "slide_type": "-"
    }
   },
   "outputs": [],
   "source": [
    "let x: i8 = 40;\n",
    "let y: Option<i8> = None;\n",
    "\n",
    "let sum2 = x + y.unwrap();\n",
    "\n",
    "println!(\"{}\", sum2);              // Panic!!"
   ]
  },
  {
   "cell_type": "markdown",
   "id": "1eb4ec6c",
   "metadata": {
    "slideshow": {
     "slide_type": "subslide"
    }
   },
   "source": [
    "### 5.4.5 Matching with `Option` Types"
   ]
  },
  {
   "cell_type": "code",
   "execution_count": null,
   "id": "91c0416a",
   "metadata": {
    "slideshow": {
     "slide_type": "-"
    }
   },
   "outputs": [],
   "source": [
    "fn plus_one(x: Option<i32>) -> Option<i32> {\n",
    "    match x {\n",
    "        None => None,\n",
    "        Some(i) => Some(i + 1),\n",
    "    }\n",
    "}\n",
    "\n",
    "let six = plus_one(Some(5));\n",
    "let what = plus_one(None);\n",
    "\n",
    "println!(\"{:?}\", six);\n",
    "println!(\"{:?}\", what);"
   ]
  },
  {
   "cell_type": "markdown",
   "id": "f1303c9f",
   "metadata": {
    "slideshow": {
     "slide_type": "subslide"
    }
   },
   "source": [
    "### 5.4.4 Using `unwrap_or()` for Default Values"
   ]
  },
  {
   "cell_type": "code",
   "execution_count": null,
   "id": "7fc39479",
   "metadata": {
    "slideshow": {
     "slide_type": "-"
    }
   },
   "outputs": [],
   "source": [
    "fn plus_one_default(x: Option<i32>) -> i32 {\n",
    "    let res = x.unwrap_or(0) + 1;\n",
    "    res\n",
    "}"
   ]
  },
  {
   "cell_type": "code",
   "execution_count": null,
   "id": "16b543c8",
   "metadata": {
    "slideshow": {
     "slide_type": "fragment"
    }
   },
   "outputs": [],
   "source": [
    "plus_one_default(Some(137))"
   ]
  },
  {
   "cell_type": "code",
   "execution_count": null,
   "id": "b397cc03",
   "metadata": {
    "slideshow": {
     "slide_type": "fragment"
    }
   },
   "outputs": [],
   "source": [
    "plus_one_default(None)"
   ]
  },
  {
   "cell_type": "markdown",
   "id": "b911a8ab",
   "metadata": {
    "slideshow": {
     "slide_type": "subslide"
    }
   },
   "source": [
    "## 5.5 The `Result` Type\n",
    "\n",
    "* Rust does not have exceptions\n",
    "* We can distinguish between \"_recoverable_\" errors and \"_unrecoverable_\" errors\n",
    "* `Result` type is used when we can recover\n",
    "* `panic!` macro is used when we cannot"
   ]
  },
  {
   "cell_type": "code",
   "execution_count": null,
   "id": "8048c86f",
   "metadata": {
    "slideshow": {
     "slide_type": "-"
    }
   },
   "outputs": [],
   "source": [
    "enum Result<T, E> {\n",
    "    Ok(T),\n",
    "    Err(E),\n",
    "}"
   ]
  },
  {
   "cell_type": "code",
   "execution_count": null,
   "id": "fe25b8b3",
   "metadata": {
    "slideshow": {
     "slide_type": "-"
    }
   },
   "outputs": [],
   "source": [
    "use std::fs::File;\n",
    "\n",
    "fn main() {\n",
    "    let f = File::open(\"hello.txt\");\n",
    "\n",
    "    let f = match f {\n",
    "        Ok(file) => file,\n",
    "        Err(error) => panic!(\"Problem opening the file: {:?}\", error),\n",
    "    };\n",
    "}\n"
   ]
  },
  {
   "cell_type": "markdown",
   "id": "036966cf",
   "metadata": {
    "slideshow": {
     "slide_type": "slide"
    }
   },
   "source": [
    "<h3><center>Guessing Game Example</center></h3>"
   ]
  },
  {
   "cell_type": "markdown",
   "id": "81878edb",
   "metadata": {
    "slideshow": {
     "slide_type": "slide"
    }
   },
   "source": [
    "\n",
    "# 6. Common Collection Types\n",
    "\n",
    "* `Vec`\n",
    "* `String`\n",
    "* `HashMap`"
   ]
  },
  {
   "cell_type": "markdown",
   "id": "afa28ffb",
   "metadata": {
    "slideshow": {
     "slide_type": "subslide"
    }
   },
   "source": [
    "## 6.1 The Vector type, or `Vec<T>`\n",
    "\n",
    "* Store more than one value in a single data structure\n",
    "* Puts all the values next to each other in memory\n",
    "* Only store values of the same type"
   ]
  },
  {
   "cell_type": "code",
   "execution_count": null,
   "id": "32c70195",
   "metadata": {
    "slideshow": {
     "slide_type": "fragment"
    }
   },
   "outputs": [],
   "source": [
    "let v1: Vec<i32> = Vec::new();\n",
    "\n",
    "v1.push(1)                           // Error!!"
   ]
  },
  {
   "cell_type": "code",
   "execution_count": null,
   "id": "77d8242b",
   "metadata": {
    "slideshow": {
     "slide_type": "fragment"
    }
   },
   "outputs": [],
   "source": [
    "let mut v2: Vec<i32> = Vec::new();\n",
    "\n",
    "v2.push(2);\n",
    "v2.push(3);\n",
    "\n",
    "println!(\"{:?}\", v2);"
   ]
  },
  {
   "cell_type": "markdown",
   "id": "950774f6",
   "metadata": {
    "slideshow": {
     "slide_type": "subslide"
    }
   },
   "source": [
    "### 6.1.1 More Common Initialization of `Vec<T>` Type"
   ]
  },
  {
   "cell_type": "code",
   "execution_count": null,
   "id": "f193b028",
   "metadata": {
    "slideshow": {
     "slide_type": "-"
    }
   },
   "outputs": [],
   "source": [
    "let mut v3 = vec![1, 2, 3];          // `vec!` macro creates `Vec<T>` and infers type of `T`"
   ]
  },
  {
   "cell_type": "code",
   "execution_count": null,
   "id": "ab396004",
   "metadata": {
    "slideshow": {
     "slide_type": "fragment"
    }
   },
   "outputs": [],
   "source": [
    "v3.push(4);\n",
    "v3.push(5);\n",
    "\n",
    "println!(\"{:?}\", v3);"
   ]
  },
  {
   "cell_type": "markdown",
   "id": "b490ae39",
   "metadata": {
    "slideshow": {
     "slide_type": "subslide"
    }
   },
   "source": [
    "### 6.1.2 Accessing Values of `Vec<T>`\n",
    "\n",
    "* Basically two ways to get elements of vector \n",
    "* `[]` and `get()`"
   ]
  },
  {
   "cell_type": "code",
   "execution_count": null,
   "id": "bb07659b",
   "metadata": {
    "slideshow": {
     "slide_type": "-"
    }
   },
   "outputs": [],
   "source": [
    "fn vec_access_example() {\n",
    "    let v = vec![1, 2, 3, 4, 5];\n",
    "\n",
    "//     let does_not_exist = &v[100];                // Panic!!\n",
    "    let does_not_exist = v.get(100);             // All good... returns `Option<i32>`\n",
    "    \n",
    "    type_of(&does_not_exist);\n",
    "}\n",
    "\n",
    "vec_access_example();"
   ]
  },
  {
   "cell_type": "markdown",
   "id": "0e0f38e1",
   "metadata": {
    "slideshow": {
     "slide_type": "subslide"
    }
   },
   "source": [
    "### 6.1.2 Accessing Mutable `Vec<T>`\n",
    "* Cannot hold an immutable reference to the first element in a vector and try to add an element to the end"
   ]
  },
  {
   "cell_type": "code",
   "execution_count": null,
   "id": "2d3e5e25",
   "metadata": {
    "slideshow": {
     "slide_type": "-"
    }
   },
   "outputs": [],
   "source": [
    "fn mut_vec_access() {\n",
    "    let mut v = vec![1, 2, 3, 4, 5];\n",
    "\n",
    "    let first = &v[0];\n",
    "\n",
    "    v.push(6);\n",
    "\n",
    "    println!(\"First element is: {}\", first);\n",
    "}\n",
    "\n",
    "mut_vec_access();                                // Error!!"
   ]
  },
  {
   "cell_type": "markdown",
   "id": "4fd18e67",
   "metadata": {
    "slideshow": {
     "slide_type": "subslide"
    }
   },
   "source": [
    "### 6.1.3 Iterating Over Values of a Vector"
   ]
  },
  {
   "cell_type": "code",
   "execution_count": null,
   "id": "e08b3d58",
   "metadata": {
    "slideshow": {
     "slide_type": "-"
    }
   },
   "outputs": [],
   "source": [
    "let v = vec![100, 32, 57];\n",
    "for i in &v {\n",
    "    println!(\"{}\", i);\n",
    "};"
   ]
  },
  {
   "cell_type": "code",
   "execution_count": null,
   "id": "f74f1b71",
   "metadata": {
    "slideshow": {
     "slide_type": "fragment"
    }
   },
   "outputs": [],
   "source": [
    "let mut v = vec![100, 32, 57];\n",
    "for i in &mut v {\n",
    "    *i += 50;                // use `*` dereference operator to get value `i` refers to\n",
    "    \n",
    "    println!(\"{}\", i);\n",
    "};"
   ]
  },
  {
   "cell_type": "markdown",
   "id": "c3388698",
   "metadata": {
    "slideshow": {
     "slide_type": "subslide"
    }
   },
   "source": [
    "## 6.2 The `String` Type\n",
    "\n",
    "* Rust core language has one string type, the string slice, `str`, \n",
    "* `str` is usually seen in its borrowed, `&str` form\n",
    "* A string slice is a references to some UTF-8 encoded string data stored elsewhere \n",
    "* The `String` type is part of the Rust standard library (not the core language)\n",
    "    - A `String` is growable, mutable, and owned UTF-8 encoded string"
   ]
  },
  {
   "cell_type": "code",
   "execution_count": null,
   "id": "335c918c",
   "metadata": {
    "slideshow": {
     "slide_type": "fragment"
    }
   },
   "outputs": [],
   "source": [
    "let mut s = String::new();       // create empty String type\n",
    "\n",
    "s.push_str(\"foo\");     \n",
    "s.push_str(\"bar\");\n",
    "\n",
    "println!(\"{}\", s);"
   ]
  },
  {
   "cell_type": "markdown",
   "id": "31c015d6",
   "metadata": {
    "slideshow": {
     "slide_type": "subslide"
    }
   },
   "source": [
    "### 6.2.1 Moves\n",
    "\n",
    "* Types in Rust can be allocated on the stack or the heap\n",
    "    + This depends on the type\n",
    "* For heap-allocated types Rust can \"move\" the ownership\n",
    "\n"
   ]
  },
  {
   "cell_type": "code",
   "execution_count": null,
   "id": "ecabe225",
   "metadata": {
    "slideshow": {
     "slide_type": "fragment"
    }
   },
   "outputs": [],
   "source": [
    "let s = String::from(\"Foo\");\n",
    "let s1 = s;                    // `s1` is the new owner\n",
    "\n",
    "println!(\"{}\", s);             // Error!!"
   ]
  },
  {
   "cell_type": "code",
   "execution_count": null,
   "id": "df1a2c2d",
   "metadata": {
    "slideshow": {
     "slide_type": "fragment"
    }
   },
   "outputs": [],
   "source": [
    "let n = 137;\n",
    "let n1 = n;                    // `n1` gets copy of `n`\n",
    "\n",
    "println!(\"{}\", n);             // all good"
   ]
  },
  {
   "cell_type": "markdown",
   "id": "653a6eee",
   "metadata": {
    "slideshow": {
     "slide_type": "subslide"
    }
   },
   "source": [
    "### 6.2.2 Moves with `Vec<T>`\n",
    "\n",
    "* Vector types behaves the same"
   ]
  },
  {
   "cell_type": "code",
   "execution_count": null,
   "id": "3d176b12",
   "metadata": {
    "slideshow": {
     "slide_type": "-"
    }
   },
   "outputs": [],
   "source": [
    "let v = vec![11, 22, 33, 44];\n",
    "let v1 = v;                    // `s1` is the new owner\n",
    "\n",
    "println!(\"{}\", v);             // Error!!"
   ]
  },
  {
   "cell_type": "markdown",
   "id": "5456a312",
   "metadata": {
    "slideshow": {
     "slide_type": "subslide"
    }
   },
   "source": [
    "### 6.2.3 Heap and Stack for `v` and `v1`"
   ]
  },
  {
   "cell_type": "markdown",
   "id": "b9b32002",
   "metadata": {
    "slideshow": {
     "slide_type": "-"
    }
   },
   "source": [
    "<div align=\"center\">\n",
    "<img src=\"img/v_stack_heap.png\" width=520/>\n",
    "</div>"
   ]
  },
  {
   "cell_type": "markdown",
   "id": "36c9ef32",
   "metadata": {
    "slideshow": {
     "slide_type": "subslide"
    }
   },
   "source": [
    "### 6.2.4 Move Ownership from `v` to `v1`"
   ]
  },
  {
   "cell_type": "markdown",
   "id": "f5656e36",
   "metadata": {
    "slideshow": {
     "slide_type": "-"
    }
   },
   "source": [
    "<div align=\"center\">\n",
    "<img src=\"img/v_v1_stack_heap.png\" width=520/>\n",
    "</div>"
   ]
  },
  {
   "cell_type": "markdown",
   "id": "ed7a2274",
   "metadata": {
    "slideshow": {
     "slide_type": "subslide"
    }
   },
   "source": [
    "### 6.2.5 Using the `Clone` Trait\n",
    "\n",
    "* Both `Vec<T>` and `String` implement the `Clone` trait\n",
    "* This allows us to use `clone()` method"
   ]
  },
  {
   "cell_type": "code",
   "execution_count": null,
   "id": "11f3e934",
   "metadata": {
    "slideshow": {
     "slide_type": "-"
    }
   },
   "outputs": [],
   "source": [
    "let v = vec![11, 22, 33, 44];\n",
    "\n",
    "let v1 = v.clone();                      //ok since Vec implements Clone\n",
    "\n",
    "println!(\"v's length is {}\", v.len());   //ok\n"
   ]
  },
  {
   "cell_type": "markdown",
   "id": "f6430ef9",
   "metadata": {
    "slideshow": {
     "slide_type": "subslide"
    }
   },
   "source": [
    "### 6.2.6 Result of `clone()`\n",
    "\n",
    "* Clone is essentially doing a \"deep copy\""
   ]
  },
  {
   "cell_type": "markdown",
   "id": "598e7bb0",
   "metadata": {
    "slideshow": {
     "slide_type": "-"
    }
   },
   "source": [
    "<div align=\"center\">\n",
    "<img src=\"img/v_clone_trait.png\" width=520/>\n",
    "</div>"
   ]
  },
  {
   "cell_type": "markdown",
   "id": "a93620aa",
   "metadata": {
    "slideshow": {
     "slide_type": "subslide"
    }
   },
   "source": [
    "## 6.3 The `HashMap` Type\n",
    "\n",
    "* The `HashMap` type is a collection type of key-value pairs"
   ]
  },
  {
   "cell_type": "code",
   "execution_count": null,
   "id": "f69ec9a2",
   "metadata": {
    "slideshow": {
     "slide_type": "-"
    }
   },
   "outputs": [],
   "source": [
    "use std::collections::HashMap;\n",
    "\n",
    "let mut scores = HashMap::new();\n",
    "\n",
    "scores.insert(String::from(\"Blue\"), 10);\n",
    "scores.insert(String::from(\"Yellow\"), 50);\n",
    "\n",
    "println!(\"{:?}\", scores);"
   ]
  },
  {
   "cell_type": "markdown",
   "id": "ec35f5b1",
   "metadata": {
    "slideshow": {
     "slide_type": "slide"
    }
   },
   "source": [
    "# 7. Functional Language Features\n",
    "\n",
    "* Closures\n",
    "    - Also called \"annonymous functions\" or \"lambdas\"\n",
    "* Iterators\n",
    "\n",
    "\n",
    "<div align=\"right\">\n",
    "<img src=\"img/ferris_lambda.png\" width=520/>\n",
    "</div>"
   ]
  },
  {
   "cell_type": "markdown",
   "id": "ccf990e7",
   "metadata": {
    "slideshow": {
     "slide_type": "subslide"
    }
   },
   "source": [
    "## 7.1 Capturing Your Environment with Closures"
   ]
  },
  {
   "cell_type": "code",
   "execution_count": null,
   "id": "8cb71a1c",
   "metadata": {
    "slideshow": {
     "slide_type": "-"
    }
   },
   "outputs": [],
   "source": [
    "fn main() {\n",
    "    let x = 4;\n",
    "\n",
    "    let equal_to_x = |z| {     // closure starts here\n",
    "        z == x                 // `x` is captured from enclosing environment\n",
    "    };\n",
    "    let y = 4;\n",
    "\n",
    "    assert!(equal_to_x(y));\n",
    "}\n"
   ]
  },
  {
   "cell_type": "markdown",
   "id": "3ce82618",
   "metadata": {
    "slideshow": {
     "slide_type": "subslide"
    }
   },
   "source": [
    "## 7.1.1 Attempting with a Function"
   ]
  },
  {
   "cell_type": "code",
   "execution_count": null,
   "id": "077fa785",
   "metadata": {
    "slideshow": {
     "slide_type": "fragment"
    }
   },
   "outputs": [],
   "source": [
    "fn main() {\n",
    "    let x = 4;\n",
    "\n",
    "    fn equal_to_x(z: i32) -> bool {  // function starts here\n",
    "        z == x                       // `x` is ???\n",
    "    }\n",
    "\n",
    "    let y = 4;\n",
    "\n",
    "    assert!(equal_to_x(y));\n",
    "}\n"
   ]
  },
  {
   "cell_type": "markdown",
   "id": "315d536e",
   "metadata": {
    "slideshow": {
     "slide_type": "subslide"
    }
   },
   "source": [
    "## 7.2 Iterators\n",
    "\n",
    "* Convenient for processing series of items\n",
    "* Terse, readable, composable"
   ]
  },
  {
   "cell_type": "code",
   "execution_count": null,
   "id": "2440bfdf",
   "metadata": {
    "slideshow": {
     "slide_type": "-"
    }
   },
   "outputs": [],
   "source": [
    "let v1 = vec![10, 20, 30];\n",
    "\n",
    "let v1_iter = v1.iter();\n",
    "\n",
    "for val in v1_iter {\n",
    "    println!(\"Got: {}\", val);\n",
    "};"
   ]
  },
  {
   "cell_type": "code",
   "execution_count": null,
   "id": "d64b20e4",
   "metadata": {
    "slideshow": {
     "slide_type": "fragment"
    }
   },
   "outputs": [],
   "source": [
    "let v1 = vec![10, 20, 30];\n",
    "\n",
    "for val in v1.iter() {\n",
    "    println!(\"Got: {}\", val);\n",
    "};"
   ]
  },
  {
   "cell_type": "markdown",
   "id": "06de1623",
   "metadata": {
    "slideshow": {
     "slide_type": "subslide"
    }
   },
   "source": [
    "### 7.2.1 Iterator Methods\n",
    "\n",
    "* Iterators have a number of different methods \n",
    "    - Some of these are \"consuming adaptors\" and others are \"iterator adaptors\"\n",
    "        + consuming adaptors \"consume\" the iterator and return a new value\n",
    "        + iterator adaptors return a new iterator\n",
    "    "
   ]
  },
  {
   "cell_type": "code",
   "execution_count": null,
   "id": "25804825",
   "metadata": {
    "slideshow": {
     "slide_type": "fragment"
    }
   },
   "outputs": [],
   "source": [
    "let v1 = vec![100, 200, 300];\n",
    "\n",
    "let total: i32 = v1.iter().sum();           // sum() is a \"consuming adaptor\"\n",
    "\n",
    "assert_eq!(total, 600);"
   ]
  },
  {
   "cell_type": "code",
   "execution_count": null,
   "id": "32dcab7e",
   "metadata": {
    "slideshow": {
     "slide_type": "fragment"
    }
   },
   "outputs": [],
   "source": [
    "fn test_map_iter() {\n",
    "    let v1 = vec![100, 200, 300];\n",
    "\n",
    "    let v1_sq = v1.iter().map(|x| x * x);  // map() is an \"iterator adaptor\"   \n",
    "    \n",
    "    println!(\"{:?}\", v1_sq);\n",
    "}\n",
    "\n",
    "test_map_iter()"
   ]
  },
  {
   "cell_type": "markdown",
   "id": "ab21dea5",
   "metadata": {
    "slideshow": {
     "slide_type": "subslide"
    }
   },
   "source": [
    "### 7.2.2 Add Consuming Adaptor to `test_map_iter()`"
   ]
  },
  {
   "cell_type": "code",
   "execution_count": null,
   "id": "4a46363f",
   "metadata": {
    "slideshow": {
     "slide_type": "-"
    }
   },
   "outputs": [],
   "source": [
    "fn test_map_iter2() {\n",
    "    let v1 = vec![100, 200, 300];\n",
    "\n",
    "    let v1_sq: Vec<_> = v1\n",
    "        .iter()\n",
    "        .map(|x| x * x)\n",
    "        .collect();            // collect() is an \"consuming adaptor\"   \n",
    "    \n",
    "    println!(\"{:?}\", v1_sq);\n",
    "}\n",
    "\n",
    "test_map_iter2();"
   ]
  },
  {
   "cell_type": "markdown",
   "id": "f6342480",
   "metadata": {
    "slideshow": {
     "slide_type": "slide"
    }
   },
   "source": [
    "<center><h1>Thank you!!</h1></center>\n",
    "\n",
    "<center><img src=\"img/happy-rustacean.png\" width=320/></center>"
   ]
  },
  {
   "cell_type": "markdown",
   "id": "1b693fa0",
   "metadata": {
    "slideshow": {
     "slide_type": "slide"
    }
   },
   "source": [
    "<center><h1>References</h1></center>\n",
    "\n",
    "[1] Klabnik, S. & Nichols, C. (2019). _The Rust Programming Language_\n",
    "\n",
    "[2] Cimpanu, C. (2019). _Microsoft: 70 percent of all security bugs are memory safety issues_ `https://www.zdnet.com/article/microsoft-70-percent-of-all-security-bugs-are-memory-safety-issues/`\n",
    "\n",
    "[3] StackOverflow, 2021 Developer Survey, `https://insights.stackoverflow.com/survey/2021`\n",
    "\n",
    "[4] Perkel, J.M. (2020). _Why Scientist are Turning to Rust_. Nature, 588. `https://www.nature.com/articles/d41586-020-03382-2`"
   ]
  }
 ],
 "metadata": {
  "@webio": {
   "lastCommId": null,
   "lastKernelId": null
  },
  "celltoolbar": "Slideshow",
  "kernelspec": {
   "display_name": "Rust",
   "language": "rust",
   "name": "rust"
  },
  "language_info": {
   "codemirror_mode": "rust",
   "file_extension": ".rs",
   "mimetype": "text/rust",
   "name": "Rust",
   "pygment_lexer": "rust",
   "version": ""
  }
 },
 "nbformat": 4,
 "nbformat_minor": 5
}
